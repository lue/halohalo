{
 "cells": [
  {
   "cell_type": "markdown",
   "metadata": {},
   "source": [
    "The purpose of this notebook is to use the analytical model given in these 3 papers:\n",
    "\n",
    "I:   http://adsabs.harvard.edu/abs/2016MNRAS.458.2848J\n",
    "\n",
    "II:  http://adsabs.harvard.edu/cgi-bin/bib_query?arXiv:1403.6835\n",
    "\n",
    "III: http://adsabs.harvard.edu/cgi-bin/bib_query?arXiv:1610.02399\n"
   ]
  },
  {
   "cell_type": "code",
   "execution_count": 203,
   "metadata": {},
   "outputs": [],
   "source": [
    "import numpy as np\n",
    "import matplotlib.pyplot as plt\n",
    "import astropy\n",
    "from colossus.halo.mass_so import R_to_M, M_to_R\n",
    "from colossus.cosmology.cosmology import setCosmology,addCosmology\n",
    "from colossus.halo.profile_nfw import NFWProfile\n",
    "from scipy.optimize import brentq, bisect"
   ]
  },
  {
   "cell_type": "code",
   "execution_count": 204,
   "metadata": {},
   "outputs": [],
   "source": [
    "params = {'flat': True, 'H0': 67.2, 'Om0': 0.3, 'Ob0': 0.049, 'sigma8': 0.81, 'ns': 0.95}\n",
    "addCosmology('myCosmo', params)\n",
    "cosmo = setCosmology('myCosmo')"
   ]
  },
  {
   "cell_type": "code",
   "execution_count": 205,
   "metadata": {
    "collapsed": true
   },
   "outputs": [],
   "source": [
    "G = 4.30172e-06\n",
    "# The gravitational constant G in kpc km2/M⊙/s2 ."
   ]
  },
  {
   "cell_type": "code",
   "execution_count": 206,
   "metadata": {},
   "outputs": [
    {
     "name": "stdout",
     "output_type": "stream",
     "text": [
      "204.13256528\n"
     ]
    }
   ],
   "source": [
    "print(M_to_R(1E12, 0.0, 'vir'))\n",
    "\n",
    "def M_to_V(M, z, defin='vir'):\n",
    "    return np.sqrt(G*M/M_to_R(M, z, defin)) # in km/s\n"
   ]
  },
  {
   "cell_type": "markdown",
   "metadata": {},
   "source": [
    "# SHMF\n",
    "\n",
    "Subhalo mass function is given by a fitting formula from paper I."
   ]
  },
  {
   "cell_type": "markdown",
   "metadata": {},
   "source": [
    "# Tidal radius\n",
    "\n",
    "Paper I, Appendix B"
   ]
  },
  {
   "cell_type": "code",
   "execution_count": 207,
   "metadata": {},
   "outputs": [],
   "source": [
    "def p1B2_c(M,z):\n",
    "    return 4.67/(1.0+z)*(M/1e14)**-0.11\n",
    "\n",
    "def f(x):\n",
    "    return np.log(1 + x) - x/(1 + x)\n",
    "\n",
    "def p1B1_M(M, R, z):\n",
    "    Rvir = M_to_R(M,z,'vir')\n",
    "    return M*f(p1B2_c(M,z)*R/Rvir)/f(p1B2_c(M,z))\n",
    "# def p1B6_rt(Rp):\n",
    "    "
   ]
  },
  {
   "cell_type": "code",
   "execution_count": 208,
   "metadata": {},
   "outputs": [
    {
     "name": "stdout",
     "output_type": "stream",
     "text": [
      "8.574832029726158\n",
      "Colossus:  12100158009.2\n",
      "Paper I:   12100158009.2\n"
     ]
    }
   ],
   "source": [
    "# NFW profile enclosed mass test: Colossus package vs formula from P1\n",
    "M=1e10\n",
    "z=0.5\n",
    "c = p1B2_c(M,z)\n",
    "print(c)\n",
    "profile = NFWProfile(M=M, mdef = 'vir', z = z, c = c)\n",
    "Rvir = profile.RDelta(0.0, 'vir')\n",
    "print('Colossus: ', profile.enclosedMass(Rvir))\n",
    "\n",
    "print('Paper I:  ', p1B1_M(M, Rvir, z=z))"
   ]
  },
  {
   "cell_type": "code",
   "execution_count": 209,
   "metadata": {},
   "outputs": [
    {
     "name": "stdout",
     "output_type": "stream",
     "text": [
      "4.010750270937957\n",
      "-152649.281222 148645.549637\n",
      "0.650838200607\n",
      "0.650838200607\n"
     ]
    },
    {
     "data": {
      "image/png": "[encoded data removed]",
      "text/plain": [
       "<matplotlib.figure.Figure at 0x1192aef28>"
      ]
     },
     "metadata": {},
     "output_type": "display_data"
    }
   ],
   "source": [
    "\n",
    "def M_to_Vc(M, R, z, defin='vir'):\n",
    "    return np.sqrt(G*p1B1_M(M, R, z=z)/R) # in km/s\n",
    "\n",
    "def p1B4_Phi(M,R,z):\n",
    "    c = p1B2_c(M,z)\n",
    "    Rvir = M_to_R(M,z,'vir')\n",
    "    Vvir = M_to_V(M,z,'vir')\n",
    "    return -Vvir**2*np.log(1.0+c*R/Rvir)/(f(c)*R/Rvir)\n",
    "\n",
    "def p1B8_E(M, Rc, z):\n",
    "    Vc = M_to_Vc(M, Rc, z)\n",
    "    E = 0.5*Vc**2+p1B4_Phi(M, Rc, z)\n",
    "    return E\n",
    "\n",
    "def p1B9_L(M, Rc, z, eta):\n",
    "    Vc = M_to_Vc(M, Rc, z)\n",
    "    Lc = Rc*Vc\n",
    "    L = eta*Lc\n",
    "    return L\n",
    "\n",
    "def p1B3(R, E, L):\n",
    "    return 1.0/R**2 + 2.0 * (p1B4_Phi(M,R,z) - E)/L**2\n",
    "\n",
    "def fun_Rp(M, Rc, z, eta):\n",
    "    E = p1B8_E(M, Rc, z)\n",
    "    L = p1B9_L(M, Rc, z, eta)\n",
    "    return brentq(p1B3, Rc/100, Rc+1e-5, args=(E, L))\n",
    "\n",
    "\n",
    "M=1e13\n",
    "z=0.5\n",
    "c = p1B2_c(M,z)\n",
    "print(c)\n",
    "profile = NFWProfile(M=M, mdef = 'vir', z = z, c = c)\n",
    "Rvir = profile.RDelta(0.0, 'vir')\n",
    "\n",
    "Rc = 1.*Rvir\n",
    "eta = 0.9\n",
    "\n",
    "E = p1B8_E(M, Rc, z)\n",
    "L = p1B9_L(M, Rc, z, eta)\n",
    "print(E,L)\n",
    "\n",
    "R_list = np.logspace(np.log10(Rvir/10.),np.log10(Rvir*10),10000)\n",
    "plt.plot(R_list/Rvir, np.abs(p1B3(R_list, E, L)))\n",
    "\n",
    "def fun(x):\n",
    "    return p1B3(x, E, L)\n",
    "\n",
    "print(brentq(fun, Rvir/100, Rc)/Rvir)\n",
    "print(rp(M, Rc, z, eta))\n",
    "# plt.plot(R_list/Rvir, np.abs(2*2*(p1B4_Phi(M, R_list, z)-E)/L**2))\n",
    "# plt.plot(R_list/Rvir, 1./ R_list**2)\n",
    "# plt.plot(R_list/Rvir, 1./ R_list**2+2*2*(p1B4_Phi(M, R_list, z)-E)/L**2)\n",
    "plt.xscale('log')\n",
    "plt.yscale('log')\n",
    "plt.show()"
   ]
  },
  {
   "cell_type": "code",
   "execution_count": 213,
   "metadata": {},
   "outputs": [
    {
     "name": "stdout",
     "output_type": "stream",
     "text": [
      "4.010750270937957\n",
      "mm:  0.0094153020921\n",
      "101.762977561 481.923812801\n",
      "0.47415933933\n"
     ]
    },
    {
     "data": {
      "image/png": "[encoded data removed]",
      "text/plain": [
       "<matplotlib.figure.Figure at 0x10d883438>"
      ]
     },
     "metadata": {},
     "output_type": "display_data"
    }
   ],
   "source": [
    "def p1B6_rt(rt, M, m, Rc, z, eta):\n",
    "    Rp = fun_Rp(M, Rc, z, eta)\n",
    "    mrt = p1B1_M(m, rt, z)\n",
    "    MRp = p1B1_M(M, Rp, z)\n",
    "    Omegap = L/(Rp**2)\n",
    "    temp = (np.log(p1B1_M(M, Rp*1.001, z))-np.log(p1B1_M(M, Rp*0.999, z))) / \\\n",
    "        (np.log(Rp*1.001)-np.log(Rp*0.999))\n",
    "    return Rp * ((mrt/MRp)/(2.0+Omegap**2*Rp**3/G/MRp-temp))**(1./3.) - rt\n",
    "#     return mrt/MRp, Omegap**2*Rp**3/G/MRp, temp\n",
    "\n",
    "def solve_rt(M, m, Rc, z, eta):\n",
    "    c = p1B2_c(m,z)\n",
    "    profile = NFWProfile(M=m, mdef = 'vir', z = z, c = c)\n",
    "    rvir = profile.RDelta(0.0, 'vir')\n",
    "    return bisect(p1B6_rt, 1e-5*rvir, 10*rvir, args=(M, m, Rc, z, eta))\n",
    "\n",
    "M=1e13\n",
    "z=0.5\n",
    "m=M/100.\n",
    "c = p1B2_c(M,z)\n",
    "print(c)\n",
    "profile = NFWProfile(M=M, mdef = 'vir', z = z, c = c)\n",
    "Rvir = profile.RDelta(0.0, 'vir')\n",
    "\n",
    "c = p1B2_c(m,z)\n",
    "profile = NFWProfile(M=m, mdef = 'vir', z = z, c = c)\n",
    "rvir = profile.RDelta(0.0, 'vir')\n",
    "\n",
    "mrt = p1B1_M(m, rvir, z)\n",
    "MRp = p1B1_M(M, Rvir, z)\n",
    "print('mm: ', mrt/MRp)\n",
    "\n",
    "Rc = .8*Rvir\n",
    "\n",
    "eta=0.99\n",
    "\n",
    "print(rvir, Rvir)\n",
    "print(solve_rt(M, m, Rc, z, eta)/rvir)\n",
    "\n",
    "R_list = np.logspace(np.log10(rvir/100.),np.log10(rvir*1),10000)\n",
    "x = p1B6_rt(R_list, M, m, Rc, z, eta)\n",
    "plt.plot(R_list/rvir, x)\n",
    "# plt.plot(R_list/rvir, R_list)\n",
    "plt.xscale('log')\n",
    "plt.yscale('log')\n",
    "plt.show()\n"
   ]
  },
  {
   "cell_type": "code",
   "execution_count": 215,
   "metadata": {},
   "outputs": [
    {
     "data": {
      "image/png": "[encoded data removed]",
      "text/plain": [
       "<matplotlib.figure.Figure at 0x1156d1d68>"
      ]
     },
     "metadata": {},
     "output_type": "display_data"
    }
   ],
   "source": [
    "x = np.linspace(0,1,1000)\n",
    "plt.plot(x, x**1.22*(1-x)**1.22)\n",
    "plt.show()"
   ]
  },
  {
   "cell_type": "code",
   "execution_count": 222,
   "metadata": {},
   "outputs": [
    {
     "data": {
      "image/png": "[encoded data removed]",
      "text/plain": [
       "<matplotlib.figure.Figure at 0x118c08860>"
      ]
     },
     "metadata": {},
     "output_type": "display_data"
    }
   ],
   "source": [
    "# Equations p1B10,b11\n",
    "\n",
    "def get_RcRvir_eta(size=100):\n",
    "    x,y = np.random.uniform(0,1,[2,size*10])\n",
    "    y *= 0.2\n",
    "    x = x[y<x**1.22*(1-x)**1.22]\n",
    "    eta = x[:size].copy()\n",
    "    RcRvir = np.random.uniform(0.6,1,size)\n",
    "    return RcRvir, eta\n",
    "\n",
    "RcRvir, eta = get_RcRvir_eta(10000)\n",
    "plt.hist(RcRvir)\n",
    "plt.hist(eta)\n",
    "plt.show()"
   ]
  },
  {
   "cell_type": "markdown",
   "metadata": {},
   "source": [
    "# TODO: Concentration scatter!"
   ]
  },
  {
   "cell_type": "markdown",
   "metadata": {},
   "source": [
    "# Subhalo radial bias\n",
    "\n",
    "Does not depend on the size of the host halo. \n",
    "\n",
    "\\S 3.3 of Paper III"
   ]
  },
  {
   "cell_type": "code",
   "execution_count": 223,
   "metadata": {
    "collapsed": true
   },
   "outputs": [],
   "source": [
    "def p3e5(x, eta=4.0, nu=2.0):\n",
    "    return 2**nu * x**eta / (1.0+x)**nu"
   ]
  },
  {
   "cell_type": "markdown",
   "metadata": {},
   "source": [
    "# Radial bias vs \n",
    "\n",
    "From paper III:\n",
    "\n",
    "We also assume that the radial bias function\n",
    "is independent of the mass of the subhaloes. This is a valid\n",
    "assumption, since van den Bosch et al. (2016) have shown\n",
    "that there is little to no radial segregation of subhaloes by\n",
    "present-day mass.\n"
   ]
  },
  {
   "cell_type": "markdown",
   "metadata": {},
   "source": [
    "# SHMF"
   ]
  },
  {
   "cell_type": "code",
   "execution_count": null,
   "metadata": {
    "collapsed": true
   },
   "outputs": [],
   "source": []
  }
 ],
 "metadata": {
  "kernelspec": {
   "display_name": "Python 3",
   "language": "python",
   "name": "python3"
  },
  "language_info": {
   "codemirror_mode": {
    "name": "ipython",
    "version": 3
   },
   "file_extension": ".py",
   "mimetype": "text/x-python",
   "name": "python",
   "nbconvert_exporter": "python",
   "pygments_lexer": "ipython3",
   "version": "3.6.1"
  }
 },
 "nbformat": 4,
 "nbformat_minor": 2
}
